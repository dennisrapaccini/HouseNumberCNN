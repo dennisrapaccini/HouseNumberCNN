{
  "cells": [
    {
      "cell_type": "code",
      "execution_count": null,
      "metadata": {
        "id": "QT4g5FWZsp8h"
      },
      "outputs": [],
      "source": [
        "import tensorflow as ts\n",
        "import cv2\n",
        "import scipy.io as sc\n",
        "from tensorflow import keras\n",
        "from tensorflow.keras import datasets, layers, models\n",
        "import tensorflow_datasets as tfds\n",
        "import matplotlib.pyplot as plt\n",
        "import numpy as np\n",
        "from sklearn.utils import shuffle"
      ]
    },
    {
      "cell_type": "code",
      "execution_count": null,
      "metadata": {
        "id": "TfHHy6x55hxt"
      },
      "outputs": [],
      "source": [
        "# Import del training, testing ed extra dataset\n",
        "d_train = sc.loadmat('/content/drive/My Drive/SVHN Dataset/train_32x32.mat');\n",
        "d_test = sc.loadmat('/content/drive/My Drive/SVHN Dataset/test_32x32.mat');\n",
        "#d_extra = sc.loadmat('/content/drive/My Drive/SVHN Dataset/extra_32x32.mat');"
      ]
    },
    {
      "cell_type": "code",
      "execution_count": null,
      "metadata": {
        "colab": {
          "base_uri": "https://localhost:8080/"
        },
        "id": "8qmEAZK2srhL",
        "outputId": "387414a9-e7cc-4fb2-ca04-c1d060ded0eb"
      },
      "outputs": [
        {
          "output_type": "stream",
          "name": "stdout",
          "text": [
            "x iniziale : (32, 32, 3, 73257)\n",
            "y iniziale : (73257, 1)\n",
            "\n",
            "x finale : (73257, 32, 32, 3)\n",
            "y finale : (73257,)\n"
          ]
        }
      ],
      "source": [
        "# Estrazione dei soli dati\n",
        "x_train_val = d_train['X']\n",
        "y_train_val = d_train['y']\n",
        "\n",
        "x_test = d_test['X']\n",
        "y_test = d_test['y']\n",
        "\n",
        "# Sostituzione delle label '10' con '0'\n",
        "y_train_val[y_train_val == 10] = 0\n",
        "y_test[y_test == 10] = 0\n",
        "\n",
        "print(\"x iniziale : \" + str(x_train_val.shape)) # Print shape prima del reshaping\n",
        "print(\"y iniziale : \" + str(y_train_val.shape))\n",
        "\n",
        "# Reshaping per passare da (32, 32, 3, numImmagini) a (numImmagini, 32, 32, 3) in x e da array di array ad array in y\n",
        "x_train_val = np.moveaxis(x_train_val,3,0)\n",
        "y_train_val = y_train_val[:,0]\n",
        "\n",
        "x_test = np.moveaxis(x_test,3,0)\n",
        "y_test = y_test[:,0]\n",
        "\n",
        "\n",
        "print(\"\\nx finale : \" + str(x_train_val.shape)) # Print shape dopo il reshaping\n",
        "print(\"y finale : \" + str(y_train_val.shape))\n",
        "\n",
        "# Casting delle immagini a float32 per non avere problemi durante la successiva divisione\n",
        "x_train_val = x_train_val.astype('float32')\n",
        "x_test = x_test.astype('float32')\n",
        "\n",
        "# Normalizzazione a 255 per una migliore efficienza\n",
        "x_train_val /= 255\n",
        "x_test /= 255\n",
        "\n",
        "\n",
        "# Split del dataset in training e validation.\n",
        "# Le prime 10000 immagini (e le rispettive labels) del dataset di training\n",
        "# originale vengono riservate per la validation e le restanti 63256 per il training.\n",
        "\n",
        "x_val = x_train_val[:10000]\n",
        "y_val = y_train_val[:10000]\n",
        "\n",
        "x_train = x_train_val[10001:]\n",
        "y_train = y_train_val[10001:]\n",
        "\n",
        "# Shuffling dataset con seme per riproducibilità\n",
        "x_train, y_train = shuffle(x_train, y_train, random_state = 1)"
      ]
    },
    {
      "cell_type": "code",
      "execution_count": null,
      "metadata": {
        "id": "JB1pWMxz8zlO",
        "cellView": "form"
      },
      "outputs": [],
      "source": [
        "#@title **Eseguire questa cella solo se si vuole utilizzare x_train + x_extra**\n",
        "\n",
        "x_extra = d_extra['X']\n",
        "y_extra = d_extra['y']\n",
        "\n",
        "# x_extra contiene 531131 immagini, viene ridotto a 100000\n",
        "x_extra = x_extra[:,:,:,:100000]\n",
        "y_extra = y_extra[:100000]\n",
        "\n",
        "y_extra[y_extra == 10] = 0\n",
        "x_extra = np.moveaxis(x_extra,3,0)\n",
        "y_extra = y_extra[:,0]\n",
        "\n",
        "x_extra = x_extra.astype('float32')\n",
        "x_extra /= 255\n",
        "\n",
        "x_train_full = np.append(x_train, x_extra, axis = 0)\n",
        "y_train_full = np.append(y_train, y_extra)\n",
        "\n",
        "\n",
        "x_train_full, y_train_full = shuffle(x_train_full, y_train_full, random_state = 1)\n",
        "\n"
      ]
    },
    {
      "cell_type": "code",
      "execution_count": null,
      "metadata": {
        "id": "lf5vYXjby7BB"
      },
      "outputs": [],
      "source": [
        "# Visualizzazione di una immagine di train\n",
        "plt.imshow(cv2.cvtColor(x_train[24], cv2.COLOR_BGR2RGB))"
      ]
    },
    {
      "cell_type": "code",
      "execution_count": null,
      "metadata": {
        "id": "5npFUs8bIezx"
      },
      "outputs": [],
      "source": [
        "# Inizializzazione\n",
        "BATCH_SIZE = 128 # Dimensione del batch, hyperparameter\n",
        "EPOCHS = 30"
      ]
    },
    {
      "cell_type": "code",
      "execution_count": null,
      "metadata": {
        "id": "5P2-icKfJrX8"
      },
      "outputs": [],
      "source": [
        "model = models.Sequential([\n",
        "    #CNN\n",
        "    keras.Input((32,32,3)),\n",
        "    layers.Conv2D(filters = 16, kernel_size = (3,3), activation = 'relu'),\n",
        "    layers.MaxPooling2D((2,2)),\n",
        "\n",
        "    layers.Conv2D(filters = 64, kernel_size = (3,3), activation = 'relu'),\n",
        "    layers.MaxPooling2D((2,2)),\n",
        "    layers.Dropout(rate = 0.3),\n",
        "\n",
        "    #Dense\n",
        "    layers.Flatten(),\n",
        "    layers.Dense(128, activation = 'relu'),\n",
        "    layers.Dropout(rate = 0.4),\n",
        "    layers.Dense(10, activation = 'softmax')\n",
        "])"
      ]
    },
    {
      "cell_type": "code",
      "execution_count": null,
      "metadata": {
        "colab": {
          "base_uri": "https://localhost:8080/"
        },
        "id": "RRvaaHntSBcZ",
        "outputId": "464d2859-a26c-4daa-f34c-f09ec599dbe8"
      },
      "outputs": [
        {
          "output_type": "stream",
          "name": "stdout",
          "text": [
            "Model: \"sequential\"\n",
            "_________________________________________________________________\n",
            " Layer (type)                Output Shape              Param #   \n",
            "=================================================================\n",
            " conv2d (Conv2D)             (None, 30, 30, 16)        448       \n",
            "                                                                 \n",
            " max_pooling2d (MaxPooling2D  (None, 15, 15, 16)       0         \n",
            " )                                                               \n",
            "                                                                 \n",
            " conv2d_1 (Conv2D)           (None, 13, 13, 64)        9280      \n",
            "                                                                 \n",
            " max_pooling2d_1 (MaxPooling  (None, 6, 6, 64)         0         \n",
            " 2D)                                                             \n",
            "                                                                 \n",
            " dropout (Dropout)           (None, 6, 6, 64)          0         \n",
            "                                                                 \n",
            " flatten (Flatten)           (None, 2304)              0         \n",
            "                                                                 \n",
            " dense (Dense)               (None, 128)               295040    \n",
            "                                                                 \n",
            " dropout_1 (Dropout)         (None, 128)               0         \n",
            "                                                                 \n",
            " dense_1 (Dense)             (None, 10)                1290      \n",
            "                                                                 \n",
            "=================================================================\n",
            "Total params: 306,058\n",
            "Trainable params: 306,058\n",
            "Non-trainable params: 0\n",
            "_________________________________________________________________\n"
          ]
        }
      ],
      "source": [
        "model.compile(\n",
        "    optimizer = 'adam',\n",
        "    loss = 'sparse_categorical_crossentropy',\n",
        "    metrics = ['accuracy']\n",
        ")\n",
        "\n",
        "model.summary()\n"
      ]
    },
    {
      "cell_type": "code",
      "execution_count": null,
      "metadata": {
        "colab": {
          "base_uri": "https://localhost:8080/"
        },
        "id": "U63iEA1rSoZJ",
        "outputId": "ed5c4ea7-431c-4ab1-b7ab-38ff2c14bdcb"
      },
      "outputs": [
        {
          "output_type": "stream",
          "name": "stdout",
          "text": [
            "Epoch 1/30\n",
            "495/495 [==============================] - 14s 7ms/step - loss: 1.4925 - accuracy: 0.4983 - val_loss: 0.7721 - val_accuracy: 0.7961\n",
            "Epoch 2/30\n",
            "495/495 [==============================] - 3s 7ms/step - loss: 0.8158 - accuracy: 0.7520 - val_loss: 0.5894 - val_accuracy: 0.8470\n",
            "Epoch 3/30\n",
            "495/495 [==============================] - 4s 8ms/step - loss: 0.6849 - accuracy: 0.7927 - val_loss: 0.4955 - val_accuracy: 0.8607\n",
            "Epoch 4/30\n",
            "495/495 [==============================] - 3s 6ms/step - loss: 0.6262 - accuracy: 0.8097 - val_loss: 0.4524 - val_accuracy: 0.8693\n",
            "Epoch 5/30\n",
            "495/495 [==============================] - 3s 6ms/step - loss: 0.5842 - accuracy: 0.8214 - val_loss: 0.4284 - val_accuracy: 0.8792\n",
            "Epoch 6/30\n",
            "495/495 [==============================] - 3s 7ms/step - loss: 0.5495 - accuracy: 0.8332 - val_loss: 0.4155 - val_accuracy: 0.8852\n",
            "Epoch 7/30\n",
            "495/495 [==============================] - 3s 5ms/step - loss: 0.5174 - accuracy: 0.8427 - val_loss: 0.4058 - val_accuracy: 0.8824\n",
            "Epoch 8/30\n",
            "495/495 [==============================] - 3s 6ms/step - loss: 0.4954 - accuracy: 0.8496 - val_loss: 0.3930 - val_accuracy: 0.8883\n",
            "Epoch 9/30\n",
            "495/495 [==============================] - 3s 5ms/step - loss: 0.4780 - accuracy: 0.8548 - val_loss: 0.3718 - val_accuracy: 0.8947\n",
            "Epoch 10/30\n",
            "495/495 [==============================] - 3s 6ms/step - loss: 0.4617 - accuracy: 0.8603 - val_loss: 0.3596 - val_accuracy: 0.8987\n",
            "Epoch 11/30\n",
            "495/495 [==============================] - 3s 6ms/step - loss: 0.4437 - accuracy: 0.8643 - val_loss: 0.3605 - val_accuracy: 0.8993\n",
            "Epoch 12/30\n",
            "495/495 [==============================] - 3s 5ms/step - loss: 0.4302 - accuracy: 0.8689 - val_loss: 0.3534 - val_accuracy: 0.9007\n",
            "Epoch 13/30\n",
            "495/495 [==============================] - 3s 6ms/step - loss: 0.4135 - accuracy: 0.8735 - val_loss: 0.3491 - val_accuracy: 0.9023\n",
            "Epoch 14/30\n",
            "495/495 [==============================] - 3s 6ms/step - loss: 0.4041 - accuracy: 0.8755 - val_loss: 0.3421 - val_accuracy: 0.9028\n",
            "Epoch 15/30\n",
            "495/495 [==============================] - 3s 7ms/step - loss: 0.3953 - accuracy: 0.8800 - val_loss: 0.3399 - val_accuracy: 0.9038\n",
            "Epoch 16/30\n",
            "495/495 [==============================] - 3s 5ms/step - loss: 0.3857 - accuracy: 0.8811 - val_loss: 0.3289 - val_accuracy: 0.9084\n",
            "Epoch 17/30\n",
            "495/495 [==============================] - 3s 6ms/step - loss: 0.3798 - accuracy: 0.8827 - val_loss: 0.3249 - val_accuracy: 0.9079\n",
            "Epoch 18/30\n",
            "495/495 [==============================] - 3s 6ms/step - loss: 0.3679 - accuracy: 0.8861 - val_loss: 0.3284 - val_accuracy: 0.9062\n",
            "Epoch 19/30\n",
            "495/495 [==============================] - 3s 6ms/step - loss: 0.3628 - accuracy: 0.8876 - val_loss: 0.3299 - val_accuracy: 0.9086\n",
            "Epoch 20/30\n",
            "495/495 [==============================] - 3s 6ms/step - loss: 0.3579 - accuracy: 0.8890 - val_loss: 0.3201 - val_accuracy: 0.9110\n",
            "Epoch 21/30\n",
            "495/495 [==============================] - 3s 6ms/step - loss: 0.3504 - accuracy: 0.8910 - val_loss: 0.3195 - val_accuracy: 0.9093\n",
            "Epoch 22/30\n",
            "495/495 [==============================] - 3s 5ms/step - loss: 0.3441 - accuracy: 0.8937 - val_loss: 0.3186 - val_accuracy: 0.9110\n",
            "Epoch 23/30\n",
            "495/495 [==============================] - 3s 5ms/step - loss: 0.3359 - accuracy: 0.8968 - val_loss: 0.3164 - val_accuracy: 0.9108\n",
            "Epoch 24/30\n",
            "495/495 [==============================] - 3s 7ms/step - loss: 0.3307 - accuracy: 0.8968 - val_loss: 0.3098 - val_accuracy: 0.9130\n",
            "Epoch 25/30\n",
            "495/495 [==============================] - 3s 6ms/step - loss: 0.3239 - accuracy: 0.8985 - val_loss: 0.3189 - val_accuracy: 0.9117\n",
            "Epoch 26/30\n",
            "495/495 [==============================] - 3s 5ms/step - loss: 0.3226 - accuracy: 0.8987 - val_loss: 0.3189 - val_accuracy: 0.9101\n",
            "Epoch 27/30\n",
            "495/495 [==============================] - 3s 6ms/step - loss: 0.3176 - accuracy: 0.9010 - val_loss: 0.3172 - val_accuracy: 0.9115\n",
            "Epoch 28/30\n",
            "495/495 [==============================] - 3s 6ms/step - loss: 0.3166 - accuracy: 0.9001 - val_loss: 0.3055 - val_accuracy: 0.9158\n",
            "Epoch 29/30\n",
            "495/495 [==============================] - 3s 7ms/step - loss: 0.3110 - accuracy: 0.9029 - val_loss: 0.3086 - val_accuracy: 0.9132\n",
            "Epoch 30/30\n",
            "495/495 [==============================] - 3s 5ms/step - loss: 0.3053 - accuracy: 0.9055 - val_loss: 0.3015 - val_accuracy: 0.9146\n"
          ]
        }
      ],
      "source": [
        "# Training senza extra\n",
        "history = model.fit(x_train,y_train, epochs = EPOCHS, batch_size = BATCH_SIZE, validation_data=(x_val, y_val))"
      ]
    },
    {
      "cell_type": "code",
      "execution_count": null,
      "metadata": {
        "id": "KtSSj8bBQ77D"
      },
      "outputs": [],
      "source": [
        "# Plot dell'accuracy, validation accuracy e loss\n",
        "plt.figure(0)\n",
        "plt.plot(history_16.history['val_accuracy'], label='Batch = 16')\n",
        "plt.plot(history_32.history['val_accuracy'], label = 'Batch = 32')\n",
        "plt.plot(history_64.history['val_accuracy'], label = 'Batch = 64')\n",
        "plt.plot(history_128.history['val_accuracy'], label = 'Batch = 128')\n",
        "plt.plot(history_256.history['val_accuracy'], label = 'Batch = 256')\n",
        "plt.xlabel('Epoch')\n",
        "plt.ylabel('Accuracy')\n",
        "plt.ylim([0.5, 1])\n",
        "plt.legend(loc='lower right')\n",
        "plt.figure(1)\n",
        "plt.plot(history.history['loss'], label = 'loss')\n",
        "plt.ylabel('Loss')\n",
        "plt.xlabel('Epochs')\n",
        "plt.legend(loc='upper right')\n",
        "test_loss, test_acc = model.evaluate(x_test,  y_test, verbose = 2) # Valutazione"
      ]
    },
    {
      "cell_type": "code",
      "execution_count": null,
      "metadata": {
        "id": "KPYkJDkQLaLm"
      },
      "outputs": [],
      "source": [
        "# Visualizzazione schema a blocchi del modello\n",
        "from tensorflow.keras.utils import plot_model\n",
        "plot_model(model, to_file='modello.png', show_shapes=True,\n",
        "    show_dtype=False,\n",
        "    show_layer_names=True,\n",
        "    show_layer_activations=True,\n",
        "    dpi=300,)"
      ]
    },
    {
      "cell_type": "code",
      "execution_count": null,
      "metadata": {
        "id": "N8YiwkSktanb"
      },
      "outputs": [],
      "source": [
        "# Visualizzazione grafica del modello\n",
        "!pip install visualkeras\n",
        "from PIL import ImageFont\n",
        "import visualkeras\n",
        "font = ImageFont.truetype(\"/content/drive/MyDrive/cmunrm.ttf\", 15)\n",
        "visualkeras.layered_view(model, legend=True,shade_step=25,spacing=30, font = font, scale_z= 0.2, scale_xy=8)"
      ]
    },
    {
      "cell_type": "code",
      "execution_count": null,
      "metadata": {
        "id": "EFnSvaEnB2p9",
        "cellView": "form"
      },
      "outputs": [],
      "source": [
        "#@title **Training con extra** (*eseguire questa cella solo se si vuole utilizzare x_train + x_extra*)\n",
        "# Training con extra\n",
        "history = model.fit(x_train_full,y_train_full, epochs = EPOCHS, batch_size = BATCH_SIZE, validation_data=(x_test, y_test))"
      ]
    },
    {
      "cell_type": "code",
      "execution_count": null,
      "metadata": {
        "colab": {
          "base_uri": "https://localhost:8080/",
          "height": 562
        },
        "id": "fNnld_Ebg19q",
        "outputId": "ded5daef-dc19-46c1-b951-1e48d6d55b49"
      },
      "outputs": [
        {
          "output_type": "stream",
          "name": "stdout",
          "text": [
            "814/814 - 2s - loss: 0.3371 - accuracy: 0.9082 - 2s/epoch - 3ms/step\n"
          ]
        },
        {
          "output_type": "display_data",
          "data": {
            "text/plain": [
              "<Figure size 432x288 with 1 Axes>"
            ],
            "image/png": "[encoded data removed]"
          },
          "metadata": {
            "needs_background": "light"
          }
        },
        {
          "output_type": "display_data",
          "data": {
            "text/plain": [
              "<Figure size 432x288 with 1 Axes>"
            ],
            "image/png": "[encoded data removed]"
          },
          "metadata": {
            "needs_background": "light"
          }
        }
      ],
      "source": [
        "# Plot dell'accuracy, validation accuracy e loss\n",
        "plt.figure(0)\n",
        "plt.plot(history.history['accuracy'], label='Accuracy')\n",
        "plt.plot(history.history['val_accuracy'], label = 'Validation accuracy')\n",
        "plt.xlabel('Epochs')\n",
        "plt.ylabel('Accuracy')\n",
        "plt.ylim([0.5, 1])\n",
        "plt.legend(loc='lower right')\n",
        "plt.figure(1)\n",
        "plt.plot(history.history['loss'], label = 'Loss')\n",
        "plt.plot(history.history['val_loss'], label = 'Validation loss')\n",
        "plt.ylabel('Loss')\n",
        "plt.xlabel('Epochs')\n",
        "plt.legend(loc='upper right')\n",
        "test_loss, test_acc = model.evaluate(x_test,  y_test, verbose = 2) # Valutazione\n"
      ]
    },
    {
      "cell_type": "code",
      "execution_count": null,
      "metadata": {
        "colab": {
          "base_uri": "https://localhost:8080/",
          "height": 615
        },
        "id": "7CGhAOojRWGM",
        "outputId": "7a8ff30e-8591-46b2-cc75-a7006d98bc6a"
      },
      "outputs": [
        {
          "output_type": "stream",
          "name": "stdout",
          "text": [
            "814/814 [==============================] - 2s 2ms/step\n"
          ]
        },
        {
          "output_type": "execute_result",
          "data": {
            "text/plain": [
              "Text(0, 0.5, 'Vere')"
            ]
          },
          "metadata": {},
          "execution_count": 12
        },
        {
          "output_type": "display_data",
          "data": {
            "text/plain": [
              "<Figure size 720x720 with 2 Axes>"
            ],
            "image/png": "[encoded data removed]"
          },
          "metadata": {
            "needs_background": "light"
          }
        }
      ],
      "source": [
        "from sklearn.metrics import confusion_matrix, ConfusionMatrixDisplay\n",
        "from matplotlib.pyplot import figure\n",
        "\n",
        "# Predizioni su x_test e plot della confusion matrix\n",
        "y_pred = model.predict(x_test)\n",
        "\n",
        "y_pred_labels = [np.argmax(i) for i in y_pred]\n",
        "cm = confusion_matrix(y_test, y_pred_labels, normalize = 'true')\n",
        "cmp = ConfusionMatrixDisplay(cm)\n",
        "fig, ax = plt.subplots(figsize=(10, 10))\n",
        "cmp.plot(ax=ax)\n",
        "plt.xlabel('Predette')\n",
        "plt.ylabel('Vere')"
      ]
    },
    {
      "cell_type": "code",
      "execution_count": null,
      "metadata": {
        "colab": {
          "base_uri": "https://localhost:8080/",
          "height": 261
        },
        "id": "aHqxwWDW7g-7",
        "outputId": "d98122cc-3061-43b2-c43e-fc1261227773"
      },
      "outputs": [
        {
          "output_type": "display_data",
          "data": {
            "text/plain": [
              "<Figure size 864x864 with 3 Axes>"
            ],
            "image/png": "[encoded data removed]"
          },
          "metadata": {
            "needs_background": "light"
          }
        }
      ],
      "source": [
        "# Visualizzazione di 3 immagini di test casuali con le relative predizioni\n",
        "from random import randint\n",
        "plt.figure(figsize=(12,12))\n",
        "for i in range(3):\n",
        "  n = randint(1,26032)\n",
        "  plt.subplot(1,3,i+1)\n",
        "  plt.imshow(cv2.cvtColor(x_test[n], cv2.COLOR_BGR2RGB))\n",
        "  plt.title(\"Predizione: \" + str(y_pred_labels[n]))"
      ]
    },
    {
      "cell_type": "markdown",
      "metadata": {
        "id": "kzrsqVnqn65y"
      },
      "source": [
        "### **Porting su STM32F401 NUCLEO-64**"
      ]
    },
    {
      "cell_type": "code",
      "execution_count": null,
      "metadata": {
        "id": "w4ytGg-Hop2V"
      },
      "outputs": [],
      "source": [
        "# Funzione che converte i bytes nei suoi multipli per una facile lettura\n",
        "def convert_bytes(size, unit=None):\n",
        "    if unit == \"KB\":\n",
        "        return print('File size: ' + str(round(size / 1024, 3)) + ' KB')\n",
        "    elif unit == \"MB\":\n",
        "        return print('File size: ' + str(round(size / (1024 * 1024), 3)) + ' MB')\n",
        "    else:\n",
        "        return print('File size: ' + str(size) + ' bytes')\n"
      ]
    },
    {
      "cell_type": "code",
      "execution_count": null,
      "metadata": {
        "colab": {
          "base_uri": "https://localhost:8080/",
          "height": 52
        },
        "id": "IVXJDDgIFEC8",
        "outputId": "190acdd8-9510-47dc-edca-98d4f2c1d081"
      },
      "outputs": [
        {
          "output_type": "stream",
          "name": "stdout",
          "text": [
            "drive  progetto_Rapaccini.h5  sample_data\n"
          ]
        },
        {
          "output_type": "display_data",
          "data": {
            "text/plain": [
              "<IPython.core.display.Javascript object>"
            ],
            "application/javascript": [
              "\n",
              "    async function download(id, filename, size) {\n",
              "      if (!google.colab.kernel.accessAllowed) {\n",
              "        return;\n",
              "      }\n",
              "      const div = document.createElement('div');\n",
              "      const label = document.createElement('label');\n",
              "      label.textContent = `Downloading \"${filename}\": `;\n",
              "      div.appendChild(label);\n",
              "      const progress = document.createElement('progress');\n",
              "      progress.max = size;\n",
              "      div.appendChild(progress);\n",
              "      document.body.appendChild(div);\n",
              "\n",
              "      const buffers = [];\n",
              "      let downloaded = 0;\n",
              "\n",
              "      const channel = await google.colab.kernel.comms.open(id);\n",
              "      // Send a message to notify the kernel that we're ready.\n",
              "      channel.send({})\n",
              "\n",
              "      for await (const message of channel.messages) {\n",
              "        // Send a message to notify the kernel that we're ready.\n",
              "        channel.send({})\n",
              "        if (message.buffers) {\n",
              "          for (const buffer of message.buffers) {\n",
              "            buffers.push(buffer);\n",
              "            downloaded += buffer.byteLength;\n",
              "            progress.value = downloaded;\n",
              "          }\n",
              "        }\n",
              "      }\n",
              "      const blob = new Blob(buffers, {type: 'application/binary'});\n",
              "      const a = document.createElement('a');\n",
              "      a.href = window.URL.createObjectURL(blob);\n",
              "      a.download = filename;\n",
              "      div.appendChild(a);\n",
              "      a.click();\n",
              "      div.remove();\n",
              "    }\n",
              "  "
            ]
          },
          "metadata": {}
        },
        {
          "output_type": "display_data",
          "data": {
            "text/plain": [
              "<IPython.core.display.Javascript object>"
            ],
            "application/javascript": [
              "download(\"download_5c7e2e6c-e0be-4fdb-9664-094847f78fc9\", \"progetto_Rapaccini.h5\", 3720208)"
            ]
          },
          "metadata": {}
        },
        {
          "output_type": "stream",
          "name": "stdout",
          "text": [
            "File size: 3.548 MB\n"
          ]
        }
      ],
      "source": [
        "# Salvataggio modello in formato .h5\n",
        "import os\n",
        "!pip install -q pyyaml h5py  # Da installare per il salvataggio\n",
        "\n",
        "saved_model = \"progetto_Rapaccini.h5\"\n",
        "model.save(saved_model)\n",
        "!ls\n",
        "\n",
        "# Download del modello (ovviamente verrà scaricato sulla macchina di Colab, occorre quindi farne il download manualmente da li)\n",
        "try:\n",
        "  from google.colab import files\n",
        "  files.download(saved_model)\n",
        "except ImportError:\n",
        "  pass\n",
        "\n",
        "# Stampa dimensione del modello\n",
        "convert_bytes(os.path.getsize(saved_model), \"MB\")\n"
      ]
    },
    {
      "cell_type": "code",
      "execution_count": null,
      "metadata": {
        "colab": {
          "base_uri": "https://localhost:8080/"
        },
        "id": "m4y4kdsJq63d",
        "outputId": "d0afa76a-2236-4360-de67-f1e81c827213"
      },
      "outputs": [
        {
          "output_type": "stream",
          "name": "stderr",
          "text": [
            "WARNING:absl:Found untraced functions such as _jit_compiled_convolution_op, _jit_compiled_convolution_op while saving (showing 2 of 2). These functions will not be directly callable after loading.\n"
          ]
        },
        {
          "output_type": "stream",
          "name": "stdout",
          "text": [
            "Dimensioni TF Lite prima della quantizzazione:\n",
            "File size: 1.171 MB\n"
          ]
        },
        {
          "output_type": "stream",
          "name": "stderr",
          "text": [
            "WARNING:absl:Found untraced functions such as _jit_compiled_convolution_op, _jit_compiled_convolution_op while saving (showing 2 of 2). These functions will not be directly callable after loading.\n"
          ]
        },
        {
          "output_type": "stream",
          "name": "stdout",
          "text": [
            "Dimensioni TF Lite dopo la quantizzazione: \n",
            "File size: 0.298 MB\n"
          ]
        }
      ],
      "source": [
        "# Conversione ad un modello Tensorflow Lite (non quantizzato) e salvataggio\n",
        "converter = ts.lite.TFLiteConverter.from_keras_model(model)\n",
        "tflite_model = converter.convert()\n",
        "\n",
        "import pathlib\n",
        "tflite_models_dir = pathlib.Path(\"./\")\n",
        "tflite_models_dir.mkdir(exist_ok=True, parents=True)\n",
        "tflite_model_file = tflite_models_dir/\"progetto_Rapaccini_lite.tflite\"\n",
        "tflite_model_file.write_bytes(tflite_model)\n",
        "\n",
        "print(\"Dimensioni TF Lite prima della quantizzazione:\")\n",
        "convert_bytes(os.path.getsize(tflite_model_file), \"MB\")\n",
        "\n",
        "\n",
        "# Quantizzazione dei parametri per ridurre dimensioni e salvataggio\n",
        "converter = ts.lite.TFLiteConverter.from_keras_model(model)\n",
        "converter.optimizations = [ts.lite.Optimize.DEFAULT]\n",
        "tflite_model_quantDyn = converter.convert()\n",
        "\n",
        "import pathlib\n",
        "tflite_models_dir = pathlib.Path(\"./\")\n",
        "tflite_models_dir.mkdir(exist_ok=True, parents=True)\n",
        "tflite_model_quantDyn_file = tflite_models_dir/\"progetto_Rapaccini_lite_quant.tflite\"\n",
        "tflite_model_quantDyn_file.write_bytes(tflite_model_quantDyn)\n",
        "print(\"Dimensioni TF Lite dopo la quantizzazione: \")\n",
        "convert_bytes(os.path.getsize(tflite_model_quantDyn_file), \"MB\")\n"
      ]
    },
    {
      "cell_type": "code",
      "execution_count": null,
      "metadata": {
        "id": "hV2cNnxwdynn",
        "cellView": "form"
      },
      "outputs": [],
      "source": [
        "#@title **Quantizzazione intera per piattaforme integer-only** (da eseguire solo in quel caso)\n",
        "# Quantizzazione intera per piattaforme integer-only\n",
        "def representative_data_gen():\n",
        "  for input_value in ts.data.Dataset.from_tensor_slices(x_train).batch(1).take(100):\n",
        "    yield [input_value]\n",
        "\n",
        "# quantization\n",
        "converter.target_spec.supported_ops = [ts.lite.OpsSet.TFLITE_BUILTINS_INT8]\n",
        "converter.inference_input_type = ts.int8\n",
        "converter.inference_output_type = ts.int8\n",
        "converter.optimizations = [ts.lite.Optimize.DEFAULT]\n",
        "converter.representative_dataset = representative_data_gen\n",
        "tflite_model_quantInt = converter.convert()\n",
        "\n",
        "interpreter = ts.lite.Interpreter(model_content=tflite_model_quantInt)\n",
        "input_type = interpreter.get_input_details()[0]['dtype']\n",
        "print('input: ', input_type)\n",
        "output_type = interpreter.get_output_details()[0]['dtype']\n",
        "print('output: ', output_type)\n",
        "\n",
        "# Save the quantized int model:\n",
        "import pathlib\n",
        "tflite_models_dir = pathlib.Path(\"./\")\n",
        "tflite_models_dir.mkdir(exist_ok=True, parents=True)\n",
        "tflite_model_quantInt_file = tflite_models_dir/\"progetto_Rapaccini_quantInt.tflite\"\n",
        "tflite_model_quantInt_file.write_bytes(tflite_model_quantInt)\n",
        "\n",
        "# Estimate size\n",
        "convert_bytes(os.path.getsize(tflite_model_quantInt_file), \"MB\")\n",
        "\n",
        "try:\n",
        "  from google.colab import files\n",
        "  files.download(tflite_model_file)\n",
        "  files.download(tflite_model_quantDyn_file)\n",
        "  #files.download(tflite_model_quantFloat_file)\n",
        "  files.download(tflite_model_quantInt_file)\n",
        "except ImportError:\n",
        "  pass\n"
      ]
    },
    {
      "cell_type": "code",
      "source": [
        "# Codifica di y_test in one-hot per la validazione su board\n",
        "from numpy import array\n",
        "from numpy import argmax\n",
        "from sklearn.preprocessing import LabelEncoder\n",
        "from sklearn.preprocessing import OneHotEncoder\n",
        "\n",
        "values = array(y_test)\n",
        "\n",
        "# Codifica intera\n",
        "label_encoder = LabelEncoder()\n",
        "integer_encoded = label_encoder.fit_transform(values)\n",
        "\n",
        "# Codifica binaria\n",
        "onehot_encoder = OneHotEncoder(sparse=False)\n",
        "integer_encoded = integer_encoded.reshape(len(integer_encoded), 1)\n",
        "y_test_onehot = onehot_encoder.fit_transform(integer_encoded)\n",
        "print(y_test_onehot)\n",
        "\n",
        "#inverted = label_encoder.inverse_transform([argmax(onehot_encoded[0, :])])\n",
        "#print(inverted)"
      ],
      "metadata": {
        "colab": {
          "base_uri": "https://localhost:8080/"
        },
        "id": "5U-bjSURxMli",
        "outputId": "918f22e7-09ea-4483-c4b9-0cf59190cb62"
      },
      "execution_count": null,
      "outputs": [
        {
          "output_type": "stream",
          "name": "stdout",
          "text": [
            "[[0. 0. 0. ... 0. 0. 0.]\n",
            " [0. 0. 1. ... 0. 0. 0.]\n",
            " [0. 1. 0. ... 0. 0. 0.]\n",
            " ...\n",
            " [0. 0. 0. ... 1. 0. 0.]\n",
            " [0. 0. 0. ... 0. 0. 0.]\n",
            " [0. 0. 0. ... 1. 0. 0.]]\n"
          ]
        },
        {
          "output_type": "stream",
          "name": "stderr",
          "text": [
            "/usr/local/lib/python3.9/dist-packages/sklearn/preprocessing/_encoders.py:868: FutureWarning: `sparse` was renamed to `sparse_output` in version 1.2 and will be removed in 1.4. `sparse_output` is ignored unless you leave `sparse` to its default value.\n",
            "  warnings.warn(\n"
          ]
        }
      ]
    },
    {
      "cell_type": "code",
      "execution_count": null,
      "metadata": {
        "colab": {
          "base_uri": "https://localhost:8080/",
          "height": 34
        },
        "id": "5ihKLtNKcXj4",
        "outputId": "1e067fb3-4940-4888-96e8-1399f3c12e9a"
      },
      "outputs": [
        {
          "output_type": "display_data",
          "data": {
            "text/plain": [
              "<IPython.core.display.Javascript object>"
            ],
            "application/javascript": [
              "\n",
              "    async function download(id, filename, size) {\n",
              "      if (!google.colab.kernel.accessAllowed) {\n",
              "        return;\n",
              "      }\n",
              "      const div = document.createElement('div');\n",
              "      const label = document.createElement('label');\n",
              "      label.textContent = `Downloading \"${filename}\": `;\n",
              "      div.appendChild(label);\n",
              "      const progress = document.createElement('progress');\n",
              "      progress.max = size;\n",
              "      div.appendChild(progress);\n",
              "      document.body.appendChild(div);\n",
              "\n",
              "      const buffers = [];\n",
              "      let downloaded = 0;\n",
              "\n",
              "      const channel = await google.colab.kernel.comms.open(id);\n",
              "      // Send a message to notify the kernel that we're ready.\n",
              "      channel.send({})\n",
              "\n",
              "      for await (const message of channel.messages) {\n",
              "        // Send a message to notify the kernel that we're ready.\n",
              "        channel.send({})\n",
              "        if (message.buffers) {\n",
              "          for (const buffer of message.buffers) {\n",
              "            buffers.push(buffer);\n",
              "            downloaded += buffer.byteLength;\n",
              "            progress.value = downloaded;\n",
              "          }\n",
              "        }\n",
              "      }\n",
              "      const blob = new Blob(buffers, {type: 'application/binary'});\n",
              "      const a = document.createElement('a');\n",
              "      a.href = window.URL.createObjectURL(blob);\n",
              "      a.download = filename;\n",
              "      div.appendChild(a);\n",
              "      a.click();\n",
              "      div.remove();\n",
              "    }\n",
              "  "
            ]
          },
          "metadata": {}
        },
        {
          "output_type": "display_data",
          "data": {
            "text/plain": [
              "<IPython.core.display.Javascript object>"
            ],
            "application/javascript": [
              "download(\"download_72449383-27fc-4a96-a675-ae38fcb813ec\", \"y_test_onehot.npy\", 2082688)"
            ]
          },
          "metadata": {}
        }
      ],
      "source": [
        "# Download dei dati di test in formato NumPy array per la validazione su board\n",
        "np.save(\"x_test.npy\", x_test)\n",
        "np.save(\"y_test_onehot.npy\", y_test_onehot)\n",
        "\n",
        "try:\n",
        "  from google.colab import files\n",
        "  #files.download(\"x_test.npy\")\n",
        "  files.download(\"y_test_onehot.npy\")\n",
        "except ImportError:\n",
        "  pass"
      ]
    },
    {
      "cell_type": "code",
      "source": [
        "y_test_onehot_reduced = y_test_onehot[0:250]\n",
        "x_test_reduced = x_test[0:250]\n",
        "np.save(\"x_test_reduced.npy\", x_test_reduced)\n",
        "try:\n",
        "  from google.colab import files\n",
        "  files.download(\"x_test_reduced.npy\")\n",
        "except ImportError:\n",
        "  pass"
      ],
      "metadata": {
        "colab": {
          "base_uri": "https://localhost:8080/",
          "height": 17
        },
        "id": "iPWJ78d19nAl",
        "outputId": "bbcc1873-5bb3-47c1-bac6-c5c599cc8bb0"
      },
      "execution_count": null,
      "outputs": [
        {
          "output_type": "display_data",
          "data": {
            "text/plain": [
              "<IPython.core.display.Javascript object>"
            ],
            "application/javascript": [
              "\n",
              "    async function download(id, filename, size) {\n",
              "      if (!google.colab.kernel.accessAllowed) {\n",
              "        return;\n",
              "      }\n",
              "      const div = document.createElement('div');\n",
              "      const label = document.createElement('label');\n",
              "      label.textContent = `Downloading \"${filename}\": `;\n",
              "      div.appendChild(label);\n",
              "      const progress = document.createElement('progress');\n",
              "      progress.max = size;\n",
              "      div.appendChild(progress);\n",
              "      document.body.appendChild(div);\n",
              "\n",
              "      const buffers = [];\n",
              "      let downloaded = 0;\n",
              "\n",
              "      const channel = await google.colab.kernel.comms.open(id);\n",
              "      // Send a message to notify the kernel that we're ready.\n",
              "      channel.send({})\n",
              "\n",
              "      for await (const message of channel.messages) {\n",
              "        // Send a message to notify the kernel that we're ready.\n",
              "        channel.send({})\n",
              "        if (message.buffers) {\n",
              "          for (const buffer of message.buffers) {\n",
              "            buffers.push(buffer);\n",
              "            downloaded += buffer.byteLength;\n",
              "            progress.value = downloaded;\n",
              "          }\n",
              "        }\n",
              "      }\n",
              "      const blob = new Blob(buffers, {type: 'application/binary'});\n",
              "      const a = document.createElement('a');\n",
              "      a.href = window.URL.createObjectURL(blob);\n",
              "      a.download = filename;\n",
              "      div.appendChild(a);\n",
              "      a.click();\n",
              "      div.remove();\n",
              "    }\n",
              "  "
            ]
          },
          "metadata": {}
        },
        {
          "output_type": "display_data",
          "data": {
            "text/plain": [
              "<IPython.core.display.Javascript object>"
            ],
            "application/javascript": [
              "download(\"download_8e7442d8-2c2d-4f63-a703-11bfb2da107b\", \"x_test_reduced.npy\", 3072128)"
            ]
          },
          "metadata": {}
        }
      ]
    }
  ],
  "metadata": {
    "accelerator": "GPU",
    "colab": {
      "provenance": []
    },
    "gpuClass": "standard",
    "kernelspec": {
      "display_name": "Python 3",
      "name": "python3"
    },
    "language_info": {
      "name": "python"
    }
  },
  "nbformat": 4,
  "nbformat_minor": 0
}